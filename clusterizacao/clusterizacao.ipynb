{
 "cells": [
  {
   "cell_type": "markdown",
   "id": "9543915b-c9a6-4068-a882-53b1d725d9ef",
   "metadata": {},
   "source": [
    "# Projeto do Aluno - Fundamentos de Machine Learning"
   ]
  },
  {
   "cell_type": "markdown",
   "id": "217a4f95-e48e-49be-87bf-d7acb9274c3c",
   "metadata": {},
   "source": [
    "Ensaio de Machine Learning com dados da empresa Data Money.\n",
    "\n",
    "**Algoritmos de Clusterização:** K-Means e Affinity Propagation\n",
    "\n",
    "**Métricas de performance:** Silhouette Score"
   ]
  },
  {
   "cell_type": "markdown",
   "id": "1d6b5cf9-fdce-46cf-8dab-60b2d1e66fba",
   "metadata": {
    "jp-MarkdownHeadingCollapsed": true
   },
   "source": [
    "## 0.0 Imports:"
   ]
  },
  {
   "cell_type": "code",
   "execution_count": 26,
   "id": "6f678f25-697e-4f03-84f9-6789e5e14acd",
   "metadata": {},
   "outputs": [],
   "source": [
    "import pandas as pd\n",
    "import seaborn as sns\n",
    "import numpy as np\n",
    "import matplotlib.pyplot as plt\n",
    "from sklearn import metrics as m\n",
    "from sklearn import datasets as dt\n",
    "from sklearn import cluster as c\n",
    "from matplotlib import pyplot as plt\n",
    "import seaborn as sns"
   ]
  },
  {
   "cell_type": "markdown",
   "id": "e2ab00d4-0f04-4e59-9d64-f3260af42ba7",
   "metadata": {},
   "source": [
    "## 1.0 Load datasets:"
   ]
  },
  {
   "cell_type": "markdown",
   "id": "f79509cf-8985-4994-88ab-1e428368067a",
   "metadata": {
    "jp-MarkdownHeadingCollapsed": true
   },
   "source": [
    "### 1.1 Clusterização:"
   ]
  },
  {
   "cell_type": "code",
   "execution_count": 3,
   "id": "16562ff5-18df-4aee-950e-0b776ced2e7c",
   "metadata": {},
   "outputs": [],
   "source": [
    "X = pd.read_csv(\"clusterizacao/X_dataset.csv\")"
   ]
  },
  {
   "cell_type": "code",
   "execution_count": 24,
   "id": "8cb1a17f-d980-46cd-8c5e-9abe9d845eed",
   "metadata": {},
   "outputs": [
    {
     "data": {
      "text/html": [
       "<div>\n",
       "<style scoped>\n",
       "    .dataframe tbody tr th:only-of-type {\n",
       "        vertical-align: middle;\n",
       "    }\n",
       "\n",
       "    .dataframe tbody tr th {\n",
       "        vertical-align: top;\n",
       "    }\n",
       "\n",
       "    .dataframe thead th {\n",
       "        text-align: right;\n",
       "    }\n",
       "</style>\n",
       "<table border=\"1\" class=\"dataframe\">\n",
       "  <thead>\n",
       "    <tr style=\"text-align: right;\">\n",
       "      <th></th>\n",
       "      <th>alcohol</th>\n",
       "      <th>malic_acid</th>\n",
       "      <th>ash</th>\n",
       "      <th>ash_alcanity</th>\n",
       "      <th>magnesium</th>\n",
       "      <th>total_phenols</th>\n",
       "      <th>flavanoids</th>\n",
       "      <th>nonflavanoid_phenols</th>\n",
       "      <th>proanthocyanins</th>\n",
       "      <th>color_intensity</th>\n",
       "      <th>hue</th>\n",
       "      <th>od280</th>\n",
       "      <th>proline</th>\n",
       "    </tr>\n",
       "  </thead>\n",
       "  <tbody>\n",
       "    <tr>\n",
       "      <th>0</th>\n",
       "      <td>1.518613</td>\n",
       "      <td>0.191700</td>\n",
       "      <td>0.232053</td>\n",
       "      <td>-1.169593</td>\n",
       "      <td>1.913905</td>\n",
       "      <td>0.627586</td>\n",
       "      <td>0.573840</td>\n",
       "      <td>-0.659563</td>\n",
       "      <td>1.224884</td>\n",
       "      <td>0.251717</td>\n",
       "      <td>0.455285</td>\n",
       "      <td>0.970696</td>\n",
       "      <td>0.561341</td>\n",
       "    </tr>\n",
       "    <tr>\n",
       "      <th>1</th>\n",
       "      <td>0.246290</td>\n",
       "      <td>0.205534</td>\n",
       "      <td>-0.827996</td>\n",
       "      <td>-2.490847</td>\n",
       "      <td>0.018145</td>\n",
       "      <td>0.575862</td>\n",
       "      <td>0.510549</td>\n",
       "      <td>-0.820719</td>\n",
       "      <td>-0.544721</td>\n",
       "      <td>-0.293321</td>\n",
       "      <td>0.463415</td>\n",
       "      <td>0.780220</td>\n",
       "      <td>0.550642</td>\n",
       "    </tr>\n",
       "    <tr>\n",
       "      <th>2</th>\n",
       "      <td>0.196879</td>\n",
       "      <td>0.320158</td>\n",
       "      <td>1.109334</td>\n",
       "      <td>-0.268738</td>\n",
       "      <td>0.088358</td>\n",
       "      <td>0.627586</td>\n",
       "      <td>0.611814</td>\n",
       "      <td>-0.498407</td>\n",
       "      <td>2.135968</td>\n",
       "      <td>0.269020</td>\n",
       "      <td>0.447154</td>\n",
       "      <td>0.695971</td>\n",
       "      <td>0.646933</td>\n",
       "    </tr>\n",
       "    <tr>\n",
       "      <th>3</th>\n",
       "      <td>1.691550</td>\n",
       "      <td>0.239130</td>\n",
       "      <td>0.487926</td>\n",
       "      <td>-0.809251</td>\n",
       "      <td>0.930918</td>\n",
       "      <td>0.989655</td>\n",
       "      <td>0.664557</td>\n",
       "      <td>-0.981875</td>\n",
       "      <td>1.032155</td>\n",
       "      <td>1.186068</td>\n",
       "      <td>0.308943</td>\n",
       "      <td>0.798535</td>\n",
       "      <td>0.857347</td>\n",
       "    </tr>\n",
       "    <tr>\n",
       "      <th>4</th>\n",
       "      <td>0.295700</td>\n",
       "      <td>0.365613</td>\n",
       "      <td>1.840403</td>\n",
       "      <td>0.451946</td>\n",
       "      <td>1.281985</td>\n",
       "      <td>0.627586</td>\n",
       "      <td>0.495781</td>\n",
       "      <td>0.226796</td>\n",
       "      <td>0.401404</td>\n",
       "      <td>-0.319276</td>\n",
       "      <td>0.455285</td>\n",
       "      <td>0.608059</td>\n",
       "      <td>0.325963</td>\n",
       "    </tr>\n",
       "  </tbody>\n",
       "</table>\n",
       "</div>"
      ],
      "text/plain": [
       "    alcohol  malic_acid       ash  ash_alcanity  magnesium  total_phenols  \\\n",
       "0  1.518613    0.191700  0.232053     -1.169593   1.913905       0.627586   \n",
       "1  0.246290    0.205534 -0.827996     -2.490847   0.018145       0.575862   \n",
       "2  0.196879    0.320158  1.109334     -0.268738   0.088358       0.627586   \n",
       "3  1.691550    0.239130  0.487926     -0.809251   0.930918       0.989655   \n",
       "4  0.295700    0.365613  1.840403      0.451946   1.281985       0.627586   \n",
       "\n",
       "   flavanoids  nonflavanoid_phenols  proanthocyanins  color_intensity  \\\n",
       "0    0.573840             -0.659563         1.224884         0.251717   \n",
       "1    0.510549             -0.820719        -0.544721        -0.293321   \n",
       "2    0.611814             -0.498407         2.135968         0.269020   \n",
       "3    0.664557             -0.981875         1.032155         1.186068   \n",
       "4    0.495781              0.226796         0.401404        -0.319276   \n",
       "\n",
       "        hue     od280   proline  \n",
       "0  0.455285  0.970696  0.561341  \n",
       "1  0.463415  0.780220  0.550642  \n",
       "2  0.447154  0.695971  0.646933  \n",
       "3  0.308943  0.798535  0.857347  \n",
       "4  0.455285  0.608059  0.325963  "
      ]
     },
     "execution_count": 24,
     "metadata": {},
     "output_type": "execute_result"
    }
   ],
   "source": [
    "X.head()"
   ]
  },
  {
   "cell_type": "markdown",
   "id": "8617387b-910f-4f7f-a442-5dcdc8b2c85e",
   "metadata": {},
   "source": [
    "## 2.0 Modelos de Clusterização:"
   ]
  },
  {
   "cell_type": "markdown",
   "id": "d65f1f41-5328-4a17-aca9-22d801444852",
   "metadata": {
    "jp-MarkdownHeadingCollapsed": true
   },
   "source": [
    "### 2.1 K-Means:"
   ]
  },
  {
   "cell_type": "code",
   "execution_count": 113,
   "id": "4cb8aeea-cb5c-44d1-acfc-27a2e8e1f22b",
   "metadata": {},
   "outputs": [],
   "source": [
    "# model definition\n",
    "model_km = c.KMeans(n_clusters= 4)\n",
    "\n",
    "# model fit\n",
    "model_km.fit(X)\n",
    "\n",
    "# model predict\n",
    "labels_km = model_km.predict(X)"
   ]
  },
  {
   "cell_type": "code",
   "execution_count": 114,
   "id": "dabc8655-4348-4839-8cb0-bc50707bfd6f",
   "metadata": {},
   "outputs": [
    {
     "data": {
      "text/plain": [
       "0.2350374277931133"
      ]
     },
     "execution_count": 114,
     "metadata": {},
     "output_type": "execute_result"
    }
   ],
   "source": [
    "#Métrica Silhouette Score:\n",
    "\n",
    "ss_km = m.silhouette_score( X, labels_km )\n",
    "ss_km"
   ]
  },
  {
   "cell_type": "markdown",
   "id": "fb7db6e3-e1f7-4187-8b51-be9eadbf37b1",
   "metadata": {
    "jp-MarkdownHeadingCollapsed": true
   },
   "source": [
    "### 2.2 Affinity Propagation:"
   ]
  },
  {
   "cell_type": "code",
   "execution_count": 115,
   "id": "4a4f9e23-c9e3-4c40-a2c6-caf6902b75e8",
   "metadata": {},
   "outputs": [],
   "source": [
    "#model definition\n",
    "model_ap = c.AffinityPropagation(preference = -50, random_state = 0)\n",
    "\n",
    "#model training\n",
    "model_ap.fit(X)\n",
    "\n",
    "#clustering\n",
    "labels_ap = model_ap.predict(X)"
   ]
  },
  {
   "cell_type": "code",
   "execution_count": 116,
   "id": "e518f1bd-b4c0-4ea2-bd5d-b5bc014491a9",
   "metadata": {},
   "outputs": [
    {
     "data": {
      "text/plain": [
       "7"
      ]
     },
     "execution_count": 116,
     "metadata": {},
     "output_type": "execute_result"
    }
   ],
   "source": [
    "#quantidade de clusters:\n",
    "\n",
    "len(np.unique(labels_ap))"
   ]
  },
  {
   "cell_type": "code",
   "execution_count": 110,
   "id": "80cedb75-8864-4c32-812f-8b5718c6691c",
   "metadata": {},
   "outputs": [
    {
     "data": {
      "text/plain": [
       "0.20228628926813524"
      ]
     },
     "execution_count": 110,
     "metadata": {},
     "output_type": "execute_result"
    }
   ],
   "source": [
    "#Métrica Silhouette Score:\n",
    "\n",
    "ss_ap = m.silhouette_score( X, labels )\n",
    "ss_ap"
   ]
  },
  {
   "cell_type": "markdown",
   "id": "fc9da399-1938-4e88-9cb5-c8cc5d5a9052",
   "metadata": {},
   "source": [
    "## 3.0 Performance dos modelos:"
   ]
  },
  {
   "cell_type": "code",
   "execution_count": 111,
   "id": "7a23ada1-3017-4acc-b1c0-99f14345925c",
   "metadata": {},
   "outputs": [],
   "source": [
    "performance_km = pd.DataFrame([{'algoritmo': 'K-Means' , 'silhouette score': ss_km}])\n",
    "performance_ap = pd.DataFrame([{'algoritmo': 'Affinity Propagation' , 'silhouette score': ss_ap}])"
   ]
  },
  {
   "cell_type": "code",
   "execution_count": 112,
   "id": "5ada46b6-ba35-4100-83dc-7bb494bc604e",
   "metadata": {},
   "outputs": [
    {
     "data": {
      "text/html": [
       "<div>\n",
       "<style scoped>\n",
       "    .dataframe tbody tr th:only-of-type {\n",
       "        vertical-align: middle;\n",
       "    }\n",
       "\n",
       "    .dataframe tbody tr th {\n",
       "        vertical-align: top;\n",
       "    }\n",
       "\n",
       "    .dataframe thead th {\n",
       "        text-align: right;\n",
       "    }\n",
       "</style>\n",
       "<table border=\"1\" class=\"dataframe\">\n",
       "  <thead>\n",
       "    <tr style=\"text-align: right;\">\n",
       "      <th></th>\n",
       "      <th>algoritmo</th>\n",
       "      <th>silhouette score</th>\n",
       "    </tr>\n",
       "  </thead>\n",
       "  <tbody>\n",
       "    <tr>\n",
       "      <th>0</th>\n",
       "      <td>K-Means</td>\n",
       "      <td>0.236294</td>\n",
       "    </tr>\n",
       "    <tr>\n",
       "      <th>0</th>\n",
       "      <td>Affinity Propagation</td>\n",
       "      <td>0.202286</td>\n",
       "    </tr>\n",
       "  </tbody>\n",
       "</table>\n",
       "</div>"
      ],
      "text/plain": [
       "              algoritmo  silhouette score\n",
       "0               K-Means          0.236294\n",
       "0  Affinity Propagation          0.202286"
      ]
     },
     "execution_count": 112,
     "metadata": {},
     "output_type": "execute_result"
    }
   ],
   "source": [
    "perf_clusters = pd.concat([performance_km, performance_ap])\n",
    "perf_clusters"
   ]
  },
  {
   "cell_type": "code",
   "execution_count": null,
   "id": "6ec4734d-0728-4f79-b11a-7d66ac114a4d",
   "metadata": {},
   "outputs": [],
   "source": []
  }
 ],
 "metadata": {
  "kernelspec": {
   "display_name": "Python 3 (ipykernel)",
   "language": "python",
   "name": "python3"
  },
  "language_info": {
   "codemirror_mode": {
    "name": "ipython",
    "version": 3
   },
   "file_extension": ".py",
   "mimetype": "text/x-python",
   "name": "python",
   "nbconvert_exporter": "python",
   "pygments_lexer": "ipython3",
   "version": "3.9.19"
  }
 },
 "nbformat": 4,
 "nbformat_minor": 5
}
